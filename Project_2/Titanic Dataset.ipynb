{
 "cells": [
  {
   "cell_type": "markdown",
   "metadata": {
    "collapsed": true,
    "deletable": true,
    "editable": true
   },
   "source": [
    "## Dataset Chosen for analysis: Titanic Dataset\n",
    "Contains demographics and passenger information from 891 of the 2224 passengers and crew on board the Titanic."
   ]
  },
  {
   "cell_type": "markdown",
   "metadata": {
    "deletable": true,
    "editable": true
   },
   "source": [
    "## Questions\n",
    "<pre>\n",
    "1) How many were on board and who survived and who did not survive?\n",
    "2)Is the survival rate affected by Gender? If so,  Which gender had a better chance of survival?\n",
    "3)Is the survival rate affected by age? If so, Which age group had a better chance of survival?\n",
    "4)Is the survival rate affected by class? If so,  Which social class had a better chance of survival?\n",
    "</pre>"
   ]
  },
  {
   "cell_type": "code",
   "execution_count": 33,
   "metadata": {
    "collapsed": false,
    "deletable": true,
    "editable": true
   },
   "outputs": [
    {
     "name": "stdout",
     "output_type": "stream",
     "text": [
      "Populating the interactive namespace from numpy and matplotlib\n"
     ]
    }
   ],
   "source": [
    "##loading libraries\n",
    "##%matplotlib inline\n",
    "import pandas as pd\n",
    "import numpy as np\n",
    "import matplotlib.pyplot as plt\n",
    "import matplotlib.figure\n",
    "import seaborn as sns\n",
    "import scipy.stats as sp\n",
    "import ipy_table as tbl\n",
    "%pylab inline\n",
    "from numbers import Number\n",
    "\n"
   ]
  },
  {
   "cell_type": "code",
   "execution_count": 34,
   "metadata": {
    "collapsed": true,
    "deletable": true,
    "editable": true
   },
   "outputs": [],
   "source": [
    "def as_percent(val, precision='0.2'):\n",
    "    \"\"\"Convert number to percentage string.\"\"\"\n",
    "    if isinstance(val, Number):\n",
    "        return \"{{:{}%}}\".format(precision).format(val)\n",
    "    else:\n",
    "        raise TypeError(\"Numeric type required\")\n",
    "\n",
    "def calculate_percentage(val, total, format_percent = False):\n",
    "    \"\"\"Calculates the percentage of a value over a total\"\"\"\n",
    "    percent = np.divide(val, total, dtype=float)\n",
    "    if format_percent:\n",
    "        percent = as_percent(percent)\n",
    "    return percent"
   ]
  },
  {
   "cell_type": "code",
   "execution_count": 35,
   "metadata": {
    "collapsed": false,
    "deletable": true,
    "editable": true
   },
   "outputs": [
    {
     "data": {
      "text/html": [
       "<div>\n",
       "<table border=\"1\" class=\"dataframe\">\n",
       "  <thead>\n",
       "    <tr style=\"text-align: right;\">\n",
       "      <th></th>\n",
       "      <th>PassengerId</th>\n",
       "      <th>Survived</th>\n",
       "      <th>Pclass</th>\n",
       "      <th>Age</th>\n",
       "      <th>SibSp</th>\n",
       "      <th>Parch</th>\n",
       "      <th>Fare</th>\n",
       "    </tr>\n",
       "  </thead>\n",
       "  <tbody>\n",
       "    <tr>\n",
       "      <th>count</th>\n",
       "      <td>891.000000</td>\n",
       "      <td>891.000000</td>\n",
       "      <td>891.000000</td>\n",
       "      <td>714.000000</td>\n",
       "      <td>891.000000</td>\n",
       "      <td>891.000000</td>\n",
       "      <td>891.000000</td>\n",
       "    </tr>\n",
       "    <tr>\n",
       "      <th>mean</th>\n",
       "      <td>446.000000</td>\n",
       "      <td>0.383838</td>\n",
       "      <td>2.308642</td>\n",
       "      <td>29.699118</td>\n",
       "      <td>0.523008</td>\n",
       "      <td>0.381594</td>\n",
       "      <td>32.204208</td>\n",
       "    </tr>\n",
       "    <tr>\n",
       "      <th>std</th>\n",
       "      <td>257.353842</td>\n",
       "      <td>0.486592</td>\n",
       "      <td>0.836071</td>\n",
       "      <td>14.526497</td>\n",
       "      <td>1.102743</td>\n",
       "      <td>0.806057</td>\n",
       "      <td>49.693429</td>\n",
       "    </tr>\n",
       "    <tr>\n",
       "      <th>min</th>\n",
       "      <td>1.000000</td>\n",
       "      <td>0.000000</td>\n",
       "      <td>1.000000</td>\n",
       "      <td>0.420000</td>\n",
       "      <td>0.000000</td>\n",
       "      <td>0.000000</td>\n",
       "      <td>0.000000</td>\n",
       "    </tr>\n",
       "    <tr>\n",
       "      <th>25%</th>\n",
       "      <td>223.500000</td>\n",
       "      <td>0.000000</td>\n",
       "      <td>2.000000</td>\n",
       "      <td>20.125000</td>\n",
       "      <td>0.000000</td>\n",
       "      <td>0.000000</td>\n",
       "      <td>7.910400</td>\n",
       "    </tr>\n",
       "    <tr>\n",
       "      <th>50%</th>\n",
       "      <td>446.000000</td>\n",
       "      <td>0.000000</td>\n",
       "      <td>3.000000</td>\n",
       "      <td>28.000000</td>\n",
       "      <td>0.000000</td>\n",
       "      <td>0.000000</td>\n",
       "      <td>14.454200</td>\n",
       "    </tr>\n",
       "    <tr>\n",
       "      <th>75%</th>\n",
       "      <td>668.500000</td>\n",
       "      <td>1.000000</td>\n",
       "      <td>3.000000</td>\n",
       "      <td>38.000000</td>\n",
       "      <td>1.000000</td>\n",
       "      <td>0.000000</td>\n",
       "      <td>31.000000</td>\n",
       "    </tr>\n",
       "    <tr>\n",
       "      <th>max</th>\n",
       "      <td>891.000000</td>\n",
       "      <td>1.000000</td>\n",
       "      <td>3.000000</td>\n",
       "      <td>80.000000</td>\n",
       "      <td>8.000000</td>\n",
       "      <td>6.000000</td>\n",
       "      <td>512.329200</td>\n",
       "    </tr>\n",
       "  </tbody>\n",
       "</table>\n",
       "</div>"
      ],
      "text/plain": [
       "       PassengerId    Survived      Pclass         Age       SibSp  \\\n",
       "count   891.000000  891.000000  891.000000  714.000000  891.000000   \n",
       "mean    446.000000    0.383838    2.308642   29.699118    0.523008   \n",
       "std     257.353842    0.486592    0.836071   14.526497    1.102743   \n",
       "min       1.000000    0.000000    1.000000    0.420000    0.000000   \n",
       "25%     223.500000    0.000000    2.000000   20.125000    0.000000   \n",
       "50%     446.000000    0.000000    3.000000   28.000000    0.000000   \n",
       "75%     668.500000    1.000000    3.000000   38.000000    1.000000   \n",
       "max     891.000000    1.000000    3.000000   80.000000    8.000000   \n",
       "\n",
       "            Parch        Fare  \n",
       "count  891.000000  891.000000  \n",
       "mean     0.381594   32.204208  \n",
       "std      0.806057   49.693429  \n",
       "min      0.000000    0.000000  \n",
       "25%      0.000000    7.910400  \n",
       "50%      0.000000   14.454200  \n",
       "75%      0.000000   31.000000  \n",
       "max      6.000000  512.329200  "
      ]
     },
     "execution_count": 35,
     "metadata": {},
     "output_type": "execute_result"
    }
   ],
   "source": [
    "#loading the dataset\n",
    "testfile = 'C:/Users/sampa/Desktop/Other/Udacity/Lesson 3/titanic-data.csv'\n",
    "testinfo = pd.read_csv(testfile)\n",
    "testinfo.head()\n",
    "testinfo.describe()"
   ]
  },
  {
   "cell_type": "markdown",
   "metadata": {
    "deletable": true,
    "editable": true
   },
   "source": [
    "## Data Description:\n",
    "\n",
    "The given dataset contains passenger details ranging from 1 - 891\n",
    "It has PassengerID which is unique for each passsenger.\n",
    "\n",
    "**Data Dictionary**\n",
    "<pre>\n",
    "**Variable** **Definition**\t**Key**\n",
    "\n",
    "survival    Survival\t    0 = No, 1 = Yes\n",
    "pclass \t    Ticket class\t1 = 1st, 2 = 2nd, 3 = 3rd\n",
    "sex\t        Sex\t\n",
    "Age\t        Age in years\t\n",
    "sibsp\t    # of siblings / spouses aboard the Titanic\t\n",
    "parch\t    # of parents / children aboard the Titanic\t\n",
    "ticket\t    Ticket number\t\n",
    "fare\t    Passenger fare\t\n",
    "cabin\t    Cabin number\t\n",
    "embarked\tPort of Embarkation\tC = Cherbourg, Q = Queenstown, S = Southampton\n",
    "\n",
    "</pre>\n",
    "Variable Notes\n",
    "\n",
    "Suvived set as '1' or '0' for survived or not.\n",
    "\n",
    "pclass: A proxy for socio-economic status (SES)\n",
    "1st = Upper\n",
    "2nd = Middle\n",
    "3rd = Lower\n",
    "\n",
    "age: Age is fractional if less than 1. If the age is estimated, is it in the form of xx.5\n",
    "\n",
    "sibsp: The dataset defines family relations in this way...\n",
    "Sibling = brother, sister, stepbrother, stepsister\n",
    "Spouse = husband, wife (mistresses and fiancés were ignored)\n",
    "\n",
    "parch: The dataset defines family relations in this way...\n",
    "Parent = mother, father\n",
    "Child = daughter, son, stepdaughter, stepson\n",
    "Some children travelled only with a nanny, therefore parch=0 for them.\n",
    "\n",
    "\n"
   ]
  },
  {
   "cell_type": "code",
   "execution_count": 36,
   "metadata": {
    "collapsed": false,
    "deletable": true,
    "editable": true
   },
   "outputs": [
    {
     "name": "stdout",
     "output_type": "stream",
     "text": [
      "<class 'pandas.core.frame.DataFrame'>\n",
      "RangeIndex: 891 entries, 0 to 890\n",
      "Data columns (total 12 columns):\n",
      "PassengerId    891 non-null int64\n",
      "Survived       891 non-null int64\n",
      "Pclass         891 non-null int64\n",
      "Name           891 non-null object\n",
      "Sex            891 non-null object\n",
      "Age            714 non-null float64\n",
      "SibSp          891 non-null int64\n",
      "Parch          891 non-null int64\n",
      "Ticket         891 non-null object\n",
      "Fare           891 non-null float64\n",
      "Cabin          204 non-null object\n",
      "Embarked       889 non-null object\n",
      "dtypes: float64(2), int64(5), object(5)\n",
      "memory usage: 83.6+ KB\n"
     ]
    }
   ],
   "source": [
    "# Data Cleaning \n",
    "#missing entries in age and cabin columns\n",
    "\n",
    "testinfo.info()"
   ]
  },
  {
   "cell_type": "markdown",
   "metadata": {
    "deletable": true,
    "editable": true
   },
   "source": [
    "We can see in Age , cabin and embarked there are some missing entries.  Cabin, embarked column is not relevant to this investigation so I'm not cleaning that column. The age column can be populated by the  mean age based on sex and passenger class. "
   ]
  },
  {
   "cell_type": "code",
   "execution_count": 37,
   "metadata": {
    "collapsed": false,
    "deletable": true,
    "editable": true
   },
   "outputs": [],
   "source": [
    "age_miss = testinfo[testinfo['Age'].isnull()]\n",
    "\n",
    "mean_age = testinfo.groupby(['Sex','Pclass'])['Age'].mean()\n",
    "\n",
    "def update_age(row):\n",
    "    if pd.isnull(row['Age']):\n",
    "        return mean_age[row['Sex'],row['Pclass']]\n",
    "    else:\n",
    "        return row['Age']\n",
    "\n",
    "testinfo['Age'] =testinfo.apply(update_age, axis=1)"
   ]
  },
  {
   "cell_type": "code",
   "execution_count": 38,
   "metadata": {
    "collapsed": false,
    "deletable": true,
    "editable": true
   },
   "outputs": [
    {
     "name": "stdout",
     "output_type": "stream",
     "text": [
      "<class 'pandas.core.frame.DataFrame'>\n",
      "RangeIndex: 891 entries, 0 to 890\n",
      "Data columns (total 12 columns):\n",
      "PassengerId    891 non-null int64\n",
      "Survived       891 non-null int64\n",
      "Pclass         891 non-null int64\n",
      "Name           891 non-null object\n",
      "Sex            891 non-null object\n",
      "Age            891 non-null float64\n",
      "SibSp          891 non-null int64\n",
      "Parch          891 non-null int64\n",
      "Ticket         891 non-null object\n",
      "Fare           891 non-null float64\n",
      "Cabin          204 non-null object\n",
      "Embarked       889 non-null object\n",
      "dtypes: float64(2), int64(5), object(5)\n",
      "memory usage: 83.6+ KB\n"
     ]
    }
   ],
   "source": [
    "testinfo.info()"
   ]
  },
  {
   "cell_type": "markdown",
   "metadata": {
    "deletable": true,
    "editable": true
   },
   "source": [
    "## Analysis of data\n",
    "\n",
    "**1) How many were on board and who survived and who did not survive?**\n",
    "    Analysing the test data"
   ]
  },
  {
   "cell_type": "code",
   "execution_count": 39,
   "metadata": {
    "collapsed": false,
    "deletable": true,
    "editable": true,
    "scrolled": true
   },
   "outputs": [
    {
     "name": "stdout",
     "output_type": "stream",
     "text": [
      "Total Number of passengers in test data:  891\n",
      "Total Number of passengers survived:  342\n",
      "Total Number of passengers who did'nt survive: 549\n",
      "The percentage of passengers who survived compared to the total sample passengers 38.38%\n",
      "The percentage of passengers who didn't survived compared to the total sample passengers 61.62%\n"
     ]
    }
   ],
   "source": [
    "test_passenger = len(testinfo)\n",
    "test_survive = len(testinfo[testinfo.Survived==True])\n",
    "test_notsurvive = test_passenger - test_survive\n",
    "\n",
    "\n",
    "surv_per = calculate_percentage(test_survive,test_passenger, True) \n",
    "nonsurv_per = calculate_percentage(test_notsurvive,test_passenger, True) \n",
    "\n",
    "print \"Total Number of passengers in test data: \", test_passenger\n",
    "\n",
    "print \"Total Number of passengers survived: \",test_survive\n",
    "\n",
    "print \"Total Number of passengers who did'nt survive:\", test_notsurvive\n",
    "\n",
    "print \"The percentage of passengers who survived compared to the total sample passengers\",surv_per\n",
    "\n",
    "print \"The percentage of passengers who didn't survived compared to the total sample passengers\",nonsurv_per\n"
   ]
  },
  {
   "cell_type": "markdown",
   "metadata": {
    "deletable": true,
    "editable": true
   },
   "source": [
    "As we can see \n",
    "Total Number of passengers in test data:  891\n",
    "Total Number of passengers survived:  342\n",
    "Total Number of passengers who did'nt survive: 549\n",
    "The percentage of passengers who survived compared to the total sample passengers 38.38%\n",
    "The percentage of passengers who didn't survived compared to the total sample passengers 61.62%"
   ]
  },
  {
   "cell_type": "code",
   "execution_count": 40,
   "metadata": {
    "collapsed": true,
    "deletable": true,
    "editable": true
   },
   "outputs": [],
   "source": [
    "#Binning the ages to make them easier to analyse\n",
    "\n",
    "age_labels = ['0-9', '10-19', '20-29', '30-39', '40-49', '50-59', '60-69', '70-79']\n",
    "testinfo['age_group'] = pd.cut(testinfo.Age, range(0, 81, 10), right=False, labels=age_labels)"
   ]
  },
  {
   "cell_type": "code",
   "execution_count": 41,
   "metadata": {
    "collapsed": false,
    "deletable": true,
    "editable": true
   },
   "outputs": [
    {
     "data": {
      "image/png": "[encoded data removed]",
      "text/plain": [
       "<matplotlib.figure.Figure at 0xe31ccc0>"
      ]
     },
     "metadata": {},
     "output_type": "display_data"
    }
   ],
   "source": [
    "testinfo.groupby(['age_group']).size().plot(kind='bar',stacked=True)\n",
    "plt.title(\"Distribution of Age Groups\",fontsize=14)\n",
    "plt.ylabel('Count')\n",
    "plt.xlabel('Age Group');"
   ]
  },
  {
   "cell_type": "markdown",
   "metadata": {
    "deletable": true,
    "editable": true
   },
   "source": [
    "From the plot above we can see that the majority of passengers were aged between 20-29\n"
   ]
  },
  {
   "cell_type": "markdown",
   "metadata": {
    "deletable": true,
    "editable": true
   },
   "source": [
    "**2) Is the survival rate affected by Gender? If so, which gender had a better chance of survival?**\n",
    "\n"
   ]
  },
  {
   "cell_type": "code",
   "execution_count": 42,
   "metadata": {
    "collapsed": false,
    "deletable": true,
    "editable": true
   },
   "outputs": [
    {
     "name": "stdout",
     "output_type": "stream",
     "text": [
      "Number of female passengers = 314\n",
      "Number of male passengers = 577\n",
      "percent_female = 35.241301908\n",
      "percent_male = 64.758698092\n"
     ]
    }
   ],
   "source": [
    "\n",
    "##Finding the number of male and female passengers\n",
    "\n",
    "total_passengers = 891.0\n",
    "female_passengers = (testinfo[testinfo['Sex'] == 'female'])\n",
    "print '{} = {}'.format('Number of female passengers', len(female_passengers))\n",
    "male_passengers = (testinfo[testinfo['Sex'] == 'male'])\n",
    "print '{} = {}'.format('Number of male passengers', len(male_passengers))\n",
    "\n",
    "\n",
    "##Finding the percentage of male and female passengers\n",
    "\n",
    "percentage_female = len(female_passengers)/total_passengers*100\n",
    "percentage_male = len(male_passengers)/total_passengers*100\n",
    "print '{} = {}'.format('percent_female', percentage_female)\n",
    "print '{} = {}'.format('percent_male', percentage_male)"
   ]
  },
  {
   "cell_type": "code",
   "execution_count": 51,
   "metadata": {
    "collapsed": false,
    "deletable": true,
    "editable": true
   },
   "outputs": [
    {
     "data": {
      "image/png": "[encoded data removed]",
      "text/plain": [
       "<matplotlib.figure.Figure at 0xe878208>"
      ]
     },
     "metadata": {},
     "output_type": "display_data"
    }
   ],
   "source": [
    "##Plotting the number of male and female passengers\n",
    "def plot(data1, data2, title, c1, c2, n, l1,l2): \n",
    "    n_groups = 1\n",
    "    means_male = (data1)\n",
    "    means_female = (data2)\n",
    "\n",
    "    fig, ax = plt.subplots()\n",
    "\n",
    "    index = np.arange(n_groups)\n",
    "    bar_width = 0.4\n",
    "\n",
    "    opacity = 0.75\n",
    "    error_config = {'ecolor': '0.5'}\n",
    "\n",
    "    rects1 = plt.bar(index, means_male, bar_width,\n",
    "                     alpha=opacity,\n",
    "                     color=c1,\n",
    "                     yerr=0,\n",
    "                     error_kw=error_config,\n",
    "                     label=l1)\n",
    "\n",
    "    rects2 = plt.bar(index +0.5 + bar_width, means_female, bar_width,\n",
    "                     alpha=opacity,\n",
    "                     color=c2,\n",
    "                     yerr=0,\n",
    "                     error_kw=error_config,\n",
    "                     label=l2)\n",
    "\n",
    "    plt.xlabel('')\n",
    "    plt.ylabel('Percentages')\n",
    "    plt.title(title)\n",
    "    plt.xticks(index + bar_width, (''))\n",
    "    plt.legend()\n",
    "    plt.yticks(n)\n",
    "\n",
    "    plt.tight_layout()\n",
    "    plt.show()\n",
    "    \n",
    "plot(percentage_male, percentage_female,'Percentage of male and female passengers','b','g',np.arange(0, 80, 10), 'Men', 'Women')"
   ]
  },
  {
   "cell_type": "markdown",
   "metadata": {
    "deletable": true,
    "editable": true
   },
   "source": [
    "\n",
    "Observation:\n",
    "The male population aboard the Titanic was much higher than the female population. 35.24% of the passengers are female whereas the rest of the 64.75% are males\n"
   ]
  },
  {
   "cell_type": "code",
   "execution_count": 52,
   "metadata": {
    "collapsed": false,
    "deletable": true,
    "editable": true
   },
   "outputs": [
    {
     "name": "stdout",
     "output_type": "stream",
     "text": [
      "percent female survived = 74.2038216561\n",
      "percent female notsurvived = 25.7961783439\n",
      "percent male survived = 18.8908145581\n",
      "percent male notsurvived = 81.1091854419\n"
     ]
    }
   ],
   "source": [
    "##Finding the percentage of female passengers who survived/did not survive\n",
    "\n",
    "percent_female_survived = len(testinfo[(testinfo['Survived'] == 1) &  (testinfo['Sex'] == \"female\")])/(len(female_passengers)*1.0)*100\n",
    "percent_female_notsurvived = len(testinfo[(testinfo['Survived'] == 0) &  (testinfo['Sex'] == \"female\")])/(len(female_passengers)*1.0)*100\n",
    "\n",
    "print '{} = {}'.format('percent female survived', percent_female_survived)\n",
    "print '{} = {}'.format('percent female notsurvived', percent_female_notsurvived)\n",
    "\n",
    "\n",
    "##Finding the percentage of female passengers who survived/did not survive\n",
    "\n",
    "percent_male_survived = len(testinfo[(testinfo['Survived'] == 1) &  (testinfo['Sex'] == \"male\")])/(len(male_passengers)*1.0)*100\n",
    "percent_male_notsurvived = len(testinfo[(testinfo['Survived'] == 0) &  (testinfo['Sex'] == \"male\")])/(len(male_passengers)*1.0)*100\n",
    "\n",
    "print '{} = {}'.format('percent male survived', percent_male_survived)\n",
    "print '{} = {}'.format('percent male notsurvived', percent_male_notsurvived)"
   ]
  },
  {
   "cell_type": "code",
   "execution_count": 54,
   "metadata": {
    "collapsed": false,
    "deletable": true,
    "editable": true
   },
   "outputs": [
    {
     "data": {
      "image/png": "[encoded data removed]",
      "text/plain": [
       "<matplotlib.figure.Figure at 0x1042f128>"
      ]
     },
     "metadata": {},
     "output_type": "display_data"
    }
   ],
   "source": [
    "##Plotting the percentages of surviving males and females\n",
    "\n",
    "plot(percent_male_survived, percent_female_survived, 'Percentage of male and female passengers who survived','y','b',np.arange(0, 120, 10),'Men', 'Women')"
   ]
  },
  {
   "cell_type": "code",
   "execution_count": 55,
   "metadata": {
    "collapsed": false
   },
   "outputs": [
    {
     "data": {
      "text/plain": [
       "array([<matplotlib.axes._subplots.AxesSubplot object at 0x00000000104F5588>,\n",
       "       <matplotlib.axes._subplots.AxesSubplot object at 0x00000000106C8DD8>], dtype=object)"
      ]
     },
     "execution_count": 55,
     "metadata": {},
     "output_type": "execute_result"
    },
    {
     "data": {
      "image/png": "[encoded data removed]",
      "text/plain": [
       "<matplotlib.figure.Figure at 0xef59d68>"
      ]
     },
     "metadata": {},
     "output_type": "display_data"
    }
   ],
   "source": [
    "Survived_sex = pd.crosstab(testinfo.Sex, testinfo.Survived.astype(bool));\n",
    "\n",
    "survived_sex_transposed = Survived_sex.transpose()\n",
    "survived_sex_transposed.plot(kind='pie', subplots=True, labels=['Percentage of Deceased', 'Percentage of Survived'], colors=['r','g'], startangle=90, autopct='%.1f', figsize=[10,5])"
   ]
  },
  {
   "cell_type": "markdown",
   "metadata": {
    "deletable": true,
    "editable": true
   },
   "source": [
    "\n",
    "__Observation:__\n",
    "The percentage of female population who survived was much higher than the percentage of male population who had survived.\n",
    "There were 577 male passengers in the sample data and  only 109 had survived. The survival rate of male passenger was a 18.89%. Out of the total 314 female passengers in the sample data 233 had survived. The survival rate of the female passenger was 74.20%\n",
    "The survival rate of a female passenger was much higher than the survival rate of the male passenger.\n",
    "\n",
    "Hypothesis Test\n",
    "\n",
    "Null Hypothesis Ho = Gender does not improve survival chance.\n",
    "\n",
    "Applying a **chi-square** for independence to test our null hypothesis.\n",
    "\n"
   ]
  },
  {
   "cell_type": "code",
   "execution_count": 56,
   "metadata": {
    "collapsed": false,
    "deletable": true,
    "editable": true
   },
   "outputs": [
    {
     "data": {
      "text/html": [
       "<table border=\"1\" cellpadding=\"3\" cellspacing=\"0\"  style=\"border:1px solid black;border-collapse:collapse;\"><tr><td>Item</td><td>Value</td></tr><tr><td>Chi-Square&nbspTest</td><td>260.7170</td></tr><tr><td>P-Value</td><td>0.0000</td></tr></table>"
      ],
      "text/plain": [
       "<ipy_table.IpyTable at 0xfb1ab38>"
      ]
     },
     "execution_count": 56,
     "metadata": {},
     "output_type": "execute_result"
    }
   ],
   "source": [
    "table = pd.crosstab([testinfo['Survived']], testinfo['Sex'])\n",
    "chi2, p, dof, expected = sp.chi2_contingency(table.values)\n",
    "results = [\n",
    "    ['Item','Value'],\n",
    "    ['Chi-Square Test',chi2],\n",
    "    ['P-Value', p]\n",
    "]\n",
    "tbl.make_table(results)"
   ]
  },
  {
   "cell_type": "markdown",
   "metadata": {
    "deletable": true,
    "editable": true
   },
   "source": [
    "The result has shown that P-value is less than 0.05 (95 % confidence) and we reject Ho so, it implies that survival rate is affected by gender.  Alternatively this can be approached differently by calculating correlation"
   ]
  },
  {
   "cell_type": "markdown",
   "metadata": {
    "deletable": true,
    "editable": true
   },
   "source": [
    "**3) Is the survival rate affected by age? If so, which age group had a better chance of survival?**"
   ]
  },
  {
   "cell_type": "code",
   "execution_count": 57,
   "metadata": {
    "collapsed": false,
    "deletable": true,
    "editable": true
   },
   "outputs": [
    {
     "name": "stdout",
     "output_type": "stream",
     "text": [
      "Number of children = 113\n",
      "Number of adults = 778\n",
      "Number of children who survived = 61\n",
      "Number of adults who survived = 281\n",
      "Percentage of children who had survived = 53.982300885\n",
      "Percentage of adults who  had survived = 36.118251928\n"
     ]
    }
   ],
   "source": [
    "##Finding the number of children and adults who survived\n",
    "\n",
    "number_children= len(testinfo[testinfo['Age'] < 18])\n",
    "number_adults= len(testinfo[testinfo['Age'] >= 18])\n",
    "\n",
    "##In most countries of the world, minor is legally defined as a person under the age of 18\n",
    "\n",
    "number_children_survived= len(testinfo[(testinfo['Age'] < 18) & (testinfo['Survived'] == 1)])\n",
    "number_adults_survived= len(testinfo[(testinfo['Age'] >= 18) & (testinfo['Survived'] == 1)])\n",
    "\n",
    "print '{} = {}'.format('Number of children',  number_children)\n",
    "print '{} = {}'.format('Number of adults', number_adults)\n",
    "print '{} = {}'.format('Number of children who survived', number_children_survived)\n",
    "print '{} = {}'.format('Number of adults who survived', number_adults_survived)\n",
    "\n",
    "##Finding percentages of children and adults who survived\n",
    "\n",
    "percentage_children_survived = number_children_survived*1.0/number_children * 100\n",
    "percentage_adults_survived = number_adults_survived*1.0/number_adults * 100\n",
    "\n",
    "print '{} = {}'.format('Percentage of children who had survived', percentage_children_survived)\n",
    "print '{} = {}'.format('Percentage of adults who  had survived', percentage_adults_survived)"
   ]
  },
  {
   "cell_type": "code",
   "execution_count": 58,
   "metadata": {
    "collapsed": false,
    "deletable": true,
    "editable": true
   },
   "outputs": [
    {
     "data": {
      "image/png": "[encoded data removed]",
      "text/plain": [
       "<matplotlib.figure.Figure at 0x1064e9b0>"
      ]
     },
     "metadata": {},
     "output_type": "display_data"
    }
   ],
   "source": [
    "\n",
    "##Plotting the percentages of children and adults who survived\n",
    "\n",
    "plot(percentage_children_survived, percentage_adults_survived, 'Percentage of children and adults who survived','c','g',np.arange(0, 70, 10),'Children','Adults')"
   ]
  },
  {
   "cell_type": "code",
   "execution_count": 59,
   "metadata": {
    "collapsed": false,
    "deletable": true,
    "editable": true
   },
   "outputs": [
    {
     "name": "stdout",
     "output_type": "stream",
     "text": [
      "age_group\n",
      "0-9      0.612903\n",
      "10-19    0.401961\n",
      "20-29    0.315642\n",
      "30-39    0.454054\n",
      "40-49    0.354545\n",
      "50-59    0.416667\n",
      "60-69    0.315789\n",
      "70-79    0.000000\n",
      "Name: Survived, dtype: float64\n"
     ]
    }
   ],
   "source": [
    "print testinfo.groupby(['age_group']).Survived.mean()\n"
   ]
  },
  {
   "cell_type": "markdown",
   "metadata": {
    "deletable": true,
    "editable": true
   },
   "source": [
    "__Observation:__\n",
    "The percentage of children who survived is relatively greater. 53.98 percent of the children aboard RMS titanic survived whereas only 38.10 percent adults made it. The mean of suvived passengers also shows that passengers of lesser age groups had better mean of survival. The survival rate of a child is much higher than the survival rate of an adult.\n",
    "\n",
    "Hypothesis test\n",
    "\n",
    "Null Hypothesis Ho = Age of a passenger doesnt affect their survival.\n",
    "Applying a **chi-square** for independence to test our null hypothesis."
   ]
  },
  {
   "cell_type": "code",
   "execution_count": 60,
   "metadata": {
    "collapsed": false,
    "deletable": true,
    "editable": true
   },
   "outputs": [
    {
     "data": {
      "text/html": [
       "<table border=\"1\" cellpadding=\"3\" cellspacing=\"0\"  style=\"border:1px solid black;border-collapse:collapse;\"><tr><td>Item</td><td>Value</td></tr><tr><td>Chi-Square&nbspTest</td><td>29.5389</td></tr><tr><td>P-Value</td><td>0.0001</td></tr></table>"
      ],
      "text/plain": [
       "<ipy_table.IpyTable at 0x10978ef0>"
      ]
     },
     "execution_count": 60,
     "metadata": {},
     "output_type": "execute_result"
    }
   ],
   "source": [
    "\n",
    "table = pd.crosstab([testinfo['Survived']], testinfo['age_group'])\n",
    "chi2, p, dof, expected = sp.chi2_contingency(table.values)\n",
    "results = [\n",
    "    ['Item','Value'],\n",
    "    ['Chi-Square Test',chi2],\n",
    "    ['P-Value', p]\n",
    "]\n",
    "tbl.make_table(results)"
   ]
  },
  {
   "cell_type": "markdown",
   "metadata": {
    "deletable": true,
    "editable": true
   },
   "source": [
    "The result has shown that P-value is less than 0.05 (95 % confidence) and we reject Ho so, it implies that survival rate is affected by age.  Alternatively this can be approached differently by calculating correlation"
   ]
  },
  {
   "cell_type": "code",
   "execution_count": 61,
   "metadata": {
    "collapsed": false,
    "deletable": true,
    "editable": true
   },
   "outputs": [
    {
     "name": "stdout",
     "output_type": "stream",
     "text": [
      "-0.0674849756853\n"
     ]
    }
   ],
   "source": [
    "## Method 2 by Correlation coefficient\n",
    "\n",
    "def correlation(x, y):\n",
    "    std_x=(x-x.mean())/x.std(ddof=0)\n",
    "    std_y=(y-y.mean())/y.std(ddof=0)\n",
    "        \n",
    "    return (std_x*std_y).mean()\n",
    "        \n",
    "age = testinfo['Age']\n",
    "survived=testinfo['Survived']\n",
    "\n",
    "print correlation(age, survived)"
   ]
  },
  {
   "cell_type": "markdown",
   "metadata": {
    "deletable": true,
    "editable": true
   },
   "source": [
    "The correlation coefficient ranges from −1 to 1. A value of 1 implies that a linear equation describes the relationship between X and Y  for which Y increases as X increases. A value of −1 implies Y decreases as X increases. A value of 0 implies that there is no linear correlation between the variables. Here the coefficient is -0.06, __negative__ implying that as age or survived are neagitvely correlated and their means are opposite. So this means as the age increases survival decreased. By this we can people who were of less age had a better chance of survival."
   ]
  },
  {
   "cell_type": "markdown",
   "metadata": {
    "deletable": true,
    "editable": true
   },
   "source": [
    "**4)Is the survival rate affected by class? If so, which social class had a better chance of survival?**\n"
   ]
  },
  {
   "cell_type": "code",
   "execution_count": 62,
   "metadata": {
    "collapsed": false,
    "deletable": true,
    "editable": true
   },
   "outputs": [
    {
     "name": "stdout",
     "output_type": "stream",
     "text": [
      "Number of First Class Passsengers = 216\n",
      "Number of Second Class Passsengers = 184\n",
      "Number of Third Class Passsengers = 491\n",
      "Number of First Class Passsengers who had survived = 136\n",
      "Number of Second Class Passsengers who had survived = 87\n",
      "Number of Third Class Passsengers who had survived = 119\n",
      "Number of First Class Passsengers who didn't survive  = 80\n",
      "Number of Second Class Passsengers who din't survive = 97\n",
      "Number of Third Class Passsengers who din't survive = 372\n",
      "percentage of first class passenger who survived = 62.962962963\n",
      "percentage of second class passenger who survived = 47.2826086957\n",
      "percentage of third class passenger who survived = 24.2362525458\n"
     ]
    }
   ],
   "source": [
    "##Finding the number of passengers belonging to first, second and third class\n",
    "\n",
    "number_first_class= len(testinfo[testinfo['Pclass'] ==1])\n",
    "number_second_class= len(testinfo[testinfo['Pclass'] ==2])\n",
    "number_third_class= len(testinfo[testinfo['Pclass'] ==3])\n",
    "\n",
    "##Finding the number of passengers belonging to first, second and third class who did survive/did not survive\n",
    "\n",
    "number_first_class_survived= len(testinfo[(testinfo['Pclass'] == 1) & (testinfo['Survived'] == 1)])\n",
    "number_second_class_survived= len(testinfo[(testinfo['Pclass'] == 2) & (testinfo['Survived'] == 1)])\n",
    "number_third_class_survived= len(testinfo[(testinfo['Pclass'] == 3) & (testinfo['Survived'] == 1)])\n",
    "\n",
    "number_first_class_notsurvived= number_first_class-number_first_class_survived\n",
    "number_second_class_notsurvived= number_second_class-number_second_class_survived \n",
    "number_third_class_notsurvived= number_third_class-number_third_class_survived\n",
    "\n",
    "print '{} = {}'.format('Number of First Class Passsengers', number_first_class)\n",
    "print '{} = {}'.format('Number of Second Class Passsengers', number_second_class)\n",
    "print '{} = {}'.format('Number of Third Class Passsengers', number_third_class)\n",
    "print '{} = {}'.format('Number of First Class Passsengers who had survived', number_first_class_survived)\n",
    "print '{} = {}'.format('Number of Second Class Passsengers who had survived', number_second_class_survived)\n",
    "print '{} = {}'.format('Number of Third Class Passsengers who had survived', number_third_class_survived)\n",
    "print '{} = {}'.format('Number of First Class Passsengers who didn\\'t survive ', number_first_class_notsurvived )\n",
    "print '{} = {}'.format('Number of Second Class Passsengers who din\\'t survive',  number_second_class_notsurvived)\n",
    "print '{} = {}'.format('Number of Third Class Passsengers who din\\'t survive', number_third_class_notsurvived)\n",
    "\n",
    "\n",
    "##Finding percentages of people belonging to the first, second, third class who did/did not survive\n",
    "\n",
    "percentage_first_class_survived = number_first_class_survived*1.0/number_first_class * 100\n",
    "percentage_second_class_survived = number_second_class_survived*1.0/number_second_class * 100\n",
    "percentage_third_class_survived = number_third_class_survived*1.0/number_third_class * 100\n",
    "\n",
    "print '{} = {}'.format('percentage of first class passenger who survived', percentage_first_class_survived)\n",
    "print '{} = {}'.format('percentage of second class passenger who survived', percentage_second_class_survived)\n",
    "print '{} = {}'.format('percentage of third class passenger who survived', percentage_third_class_survived)"
   ]
  },
  {
   "cell_type": "code",
   "execution_count": 63,
   "metadata": {
    "collapsed": false,
    "deletable": true,
    "editable": true
   },
   "outputs": [
    {
     "data": {
      "image/png": "[encoded data removed]",
      "text/plain": [
       "<matplotlib.figure.Figure at 0x10aeaf28>"
      ]
     },
     "metadata": {},
     "output_type": "display_data"
    }
   ],
   "source": [
    "##Plotting percentages of people belonging to the first, second, third class who did/did not survive\n",
    "\n",
    "N = 3\n",
    "survivedMeans = (number_first_class_survived, number_second_class_survived, number_third_class_survived)\n",
    "notsurvivedMeans = (number_first_class_notsurvived, number_second_class_notsurvived, number_third_class_notsurvived)\n",
    "\n",
    "ind = np.arange(N)    # the x locations for the groups\n",
    "width = 0.35       # the width of the bars: can also be len(x) sequence\n",
    "\n",
    "p1 = plt.bar(ind, survivedMeans, width, color='g')\n",
    "p2 = plt.bar(ind, notsurvivedMeans, width, color='r',\n",
    "             bottom=survivedMeans)\n",
    "\n",
    "plt.ylabel('Number of Passengers')\n",
    "plt.title('Survival Stats by Class')\n",
    "plt.xticks(ind + width/2., ('First Class', 'Second Class', 'Third Class'))\n",
    "plt.yticks(np.arange(0, 800, 50))\n",
    "plt.legend((p1[0], p2[0]), ('Survived', 'Did not Survive'))\n",
    "\n",
    "plt.show()"
   ]
  },
  {
   "cell_type": "code",
   "execution_count": 64,
   "metadata": {
    "collapsed": false
   },
   "outputs": [
    {
     "data": {
      "image/png": "[encoded data removed]",
      "text/plain": [
       "<matplotlib.figure.Figure at 0x105ffeb8>"
      ]
     },
     "metadata": {},
     "output_type": "display_data"
    }
   ],
   "source": [
    "\n",
    "survived_class = pd.crosstab(testinfo.Pclass, testinfo.Survived.astype(bool))\n",
    "transposed_survived_class = survived_class.transpose()\n",
    "transposed_survived_class.plot(labels=['Deceased', 'Survived'], colors=['r', 'g'], kind='pie', subplots='True', rot=1, autopct='%.1f', startangle=90, figsize=[16,5]);"
   ]
  },
  {
   "cell_type": "markdown",
   "metadata": {
    "deletable": true,
    "editable": true
   },
   "source": [
    "__Observation:__\n",
    "The survival rate of a first class passenger is much higher than the survival rate of the second class passenger, and the survival rate of a second class passenger is much higher than the survival rate of a third class passenger\n",
    "The survival rate of a higher class passenger is much higher than the survival rate of a lower class passenger.\n",
    "\n",
    "Hypothesis test\n",
    "\n",
    "Null Hypothesis Ho = Class of a passenger doesnt affect their survival.\n",
    "Applying a **chi-square** for independence to test our null hypothesis.\n"
   ]
  },
  {
   "cell_type": "code",
   "execution_count": 65,
   "metadata": {
    "collapsed": false,
    "deletable": true,
    "editable": true
   },
   "outputs": [
    {
     "data": {
      "text/html": [
       "<table border=\"1\" cellpadding=\"3\" cellspacing=\"0\"  style=\"border:1px solid black;border-collapse:collapse;\"><tr><td>Item</td><td>Value</td></tr><tr><td>Chi-Square&nbspTest</td><td>102.8890</td></tr><tr><td>P-Value</td><td>0.0000</td></tr></table>"
      ],
      "text/plain": [
       "<ipy_table.IpyTable at 0x104f5550>"
      ]
     },
     "execution_count": 65,
     "metadata": {},
     "output_type": "execute_result"
    }
   ],
   "source": [
    "\n",
    "table = pd.crosstab([testinfo['Survived']], testinfo['Pclass'])\n",
    "chi2, p, dof, expected = sp.chi2_contingency(table.values)\n",
    "results = [\n",
    "    ['Item','Value'],\n",
    "    ['Chi-Square Test',chi2],\n",
    "    ['P-Value', p]\n",
    "]\n",
    "tbl.make_table(results)"
   ]
  },
  {
   "cell_type": "markdown",
   "metadata": {
    "deletable": true,
    "editable": true
   },
   "source": [
    "The result has shown that P-value is less than 0.05 (95 % confidence) and we reject Ho so, it implies that survival rate is affected by Class . Alternatively this can be approached differently by calculating correlation."
   ]
  },
  {
   "cell_type": "code",
   "execution_count": 66,
   "metadata": {
    "collapsed": false,
    "deletable": true,
    "editable": true
   },
   "outputs": [
    {
     "name": "stdout",
     "output_type": "stream",
     "text": [
      "-0.338481035961\n"
     ]
    }
   ],
   "source": [
    "##Correlation coefficient\n",
    "\n",
    "pclass = testinfo['Pclass']\n",
    "\n",
    "print correlation(pclass, survived)"
   ]
  },
  {
   "cell_type": "markdown",
   "metadata": {
    "deletable": true,
    "editable": true
   },
   "source": [
    "The correlation check shows that the correlation is negative implying  lesser number of third class passengers survived as compared to the second class and lessser number of second class pasengers survived as compared to the third class passengers.\n"
   ]
  },
  {
   "cell_type": "markdown",
   "metadata": {
    "deletable": true,
    "editable": true
   },
   "source": [
    "__Limitations of the dataset:__\n",
    "1) There were a lot of missing data.\n",
    "2) Only a sample of the data has been provided for analysis.\n",
    "\n",
    "We can see in Age , cabin and embarked there are some missing entries and I applied the mean of the age to clean Age's data. But this could have skewed the actual data.\n",
    "As this is only a sample of the data we do not know may be by analysing the actual data few results may suprisingly differ.\n",
    "\n",
    "__Conclusion__\n",
    "\n",
    "Observing  the proportion of survivors by gender, age and class, the data insinuates that women and children were given prefernce in evacuation . And also higher class passengers preferential treatment over other classes. This supports the notion of the seats in the lifeboats been given to Women and Children first. As quoted  \"First of all, if you were a man, you were outta luck. The overall survival rate for men was 20%. For women, it was 74%, and for children, 52%. Yes, it was indeed \"women and children first.\" - http://www.anesi.com/titanic.htm\n",
    "\n"
   ]
  },
  {
   "cell_type": "markdown",
   "metadata": {
    "collapsed": true,
    "deletable": true,
    "editable": true
   },
   "source": [
    "__References:__ <pre>\n",
    "[1]https://www.kaggle.com/c/titanic/data\n",
    "[2]https://blog.dataiku.com/2014/05/12/getting-started-data-science-titanic-kaggle-part-1\n",
    "[3]http://www.stat.columbia.edu/~gelman/arm/missing.pdf\n",
    "[4]https://www.kaggle.com/omarelgabry/a-journey-through-titanic\n",
    "[5]http://www.anesi.com/titanic.htm\n",
    "</pre>"
   ]
  },
  {
   "cell_type": "code",
   "execution_count": null,
   "metadata": {
    "collapsed": true
   },
   "outputs": [],
   "source": []
  }
 ],
 "metadata": {
  "kernelspec": {
   "display_name": "Python [default]",
   "language": "python",
   "name": "python2"
  },
  "language_info": {
   "codemirror_mode": {
    "name": "ipython",
    "version": 2
   },
   "file_extension": ".py",
   "mimetype": "text/x-python",
   "name": "python",
   "nbconvert_exporter": "python",
   "pygments_lexer": "ipython2",
   "version": "2.7.12"
  }
 },
 "nbformat": 4,
 "nbformat_minor": 2
}
